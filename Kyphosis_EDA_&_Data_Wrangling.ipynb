{
  "nbformat": 4,
  "nbformat_minor": 0,
  "metadata": {
    "colab": {
      "provenance": []
    },
    "kernelspec": {
      "name": "python3",
      "display_name": "Python 3"
    },
    "language_info": {
      "name": "python"
    }
  },
  "cells": [
    {
      "cell_type": "markdown",
      "source": [
        "# Kyphosis Dataset Analysis"
      ],
      "metadata": {
        "id": "TPCBj8tbAcnS"
      }
    },
    {
      "cell_type": "markdown",
      "source": [
        "## Data Loading & Exploration"
      ],
      "metadata": {
        "id": "C0yA6goeAzDP"
      }
    },
    {
      "cell_type": "markdown",
      "metadata": {
        "id": "32575d26"
      },
      "source": [
        "*   **Inputs:** Kyphosis (absent or present), Age (in months), Number (the number of vertebrae involved), Start (the number of the first vertebra operated on)\n",
        "*   **Outputs:** Link to the dataset (https://www.kaggle.com/datasets/abbasit/kyphosis-dataset)"
      ]
    },
    {
      "cell_type": "markdown",
      "source": [
        "### Import Libraries\n",
        "\n",
        "---"
      ],
      "metadata": {
        "id": "iar-x2aVKMjX"
      }
    },
    {
      "cell_type": "code",
      "execution_count": null,
      "metadata": {
        "id": "2KUmv8sIkaMo"
      },
      "outputs": [],
      "source": [
        "import pandas as pd\n",
        "import numpy as np\n",
        "import matplotlib.pyplot as plt\n",
        "import seaborn as sns\n"
      ]
    },
    {
      "cell_type": "code",
      "source": [
        "# 1. Age: in months, 2. Number: the number of vertebrae involved, 3. Start: the number of the first (topmost) vertebra operated on.\n",
        "k_df = pd.read_csv('kyphosis[1].csv')\n",
        "k_df"
      ],
      "metadata": {
        "collapsed": true,
        "id": "CkvElj2fl_Un"
      },
      "execution_count": null,
      "outputs": []
    },
    {
      "cell_type": "code",
      "source": [
        "k_df.head()"
      ],
      "metadata": {
        "id": "Yjk2DckNmKXi"
      },
      "execution_count": null,
      "outputs": []
    },
    {
      "cell_type": "code",
      "source": [
        "k_df.tail()"
      ],
      "metadata": {
        "id": "3jYtrFZzmO3Q"
      },
      "execution_count": null,
      "outputs": []
    },
    {
      "cell_type": "code",
      "source": [
        "k_df.shape"
      ],
      "metadata": {
        "collapsed": true,
        "id": "wPEF3dWu-Sny"
      },
      "execution_count": null,
      "outputs": []
    },
    {
      "cell_type": "code",
      "source": [
        "k_df.info()"
      ],
      "metadata": {
        "id": "g55A2IDImQ7y"
      },
      "execution_count": null,
      "outputs": []
    },
    {
      "cell_type": "code",
      "source": [
        "k_df.describe()"
      ],
      "metadata": {
        "id": "cb4oQG1rmUbs"
      },
      "execution_count": null,
      "outputs": []
    },
    {
      "cell_type": "code",
      "source": [
        "k_df.isnull().sum()"
      ],
      "metadata": {
        "id": "lEwCmIkVnTHR"
      },
      "execution_count": null,
      "outputs": []
    },
    {
      "cell_type": "markdown",
      "source": [
        "## Data Preprocessing"
      ],
      "metadata": {
        "id": "ZxVNNygeBDwD"
      }
    },
    {
      "cell_type": "markdown",
      "source": [
        "### Normalization Used to Convert Feature Range From 0-1\n",
        "\n",
        "---\n",
        "\n"
      ],
      "metadata": {
        "id": "EJw7M4erCJhM"
      }
    },
    {
      "cell_type": "code",
      "source": [
        "from sklearn.preprocessing import MinMaxScaler\n",
        "scaler = MinMaxScaler()\n",
        "k_df['Age'] = scaler.fit_transform(k_df['Age'].values.reshape(-1,1))\n",
        "k_df"
      ],
      "metadata": {
        "collapsed": true,
        "id": "z9N4PSIjo1yD"
      },
      "execution_count": null,
      "outputs": []
    },
    {
      "cell_type": "markdown",
      "source": [
        "### Converting The Age From Months to Years\n",
        "\n",
        "---"
      ],
      "metadata": {
        "id": "MCkk1DbwCTgV"
      }
    },
    {
      "cell_type": "code",
      "source": [
        "k_df['Age'].mean()/12"
      ],
      "metadata": {
        "collapsed": true,
        "id": "45HBzoojmoxz"
      },
      "execution_count": null,
      "outputs": []
    },
    {
      "cell_type": "code",
      "source": [
        "k_df['Age'].min()/12"
      ],
      "metadata": {
        "id": "S9fCrwzXnFR6"
      },
      "execution_count": null,
      "outputs": []
    },
    {
      "cell_type": "code",
      "source": [
        "k_df['Age'].max()/12"
      ],
      "metadata": {
        "id": "VMdTVdxCnNHM"
      },
      "execution_count": null,
      "outputs": []
    },
    {
      "cell_type": "code",
      "source": [
        "k_df[\"Age\"] = k_df[\"Age\"].astype(\"float64\")\n",
        "k_df.info()"
      ],
      "metadata": {
        "id": "xh33rxjKnTXT"
      },
      "execution_count": null,
      "outputs": []
    },
    {
      "cell_type": "markdown",
      "source": [
        "### Creating a Function to Convert Age From Months to Years\n",
        "\n",
        "---"
      ],
      "metadata": {
        "id": "TKUHL__hCpKl"
      }
    },
    {
      "cell_type": "code",
      "source": [
        "# defining a function to change age from months to years\n",
        "def month_to_year(age):\n",
        "  return age / 12"
      ],
      "metadata": {
        "id": "Ii3vHNWYnTZn"
      },
      "execution_count": null,
      "outputs": []
    },
    {
      "cell_type": "code",
      "source": [
        "# applying the function to the ['Age'] column\n",
        "k_df['Age'] = k_df['Age'].apply(month_to_year)\n",
        "k_df"
      ],
      "metadata": {
        "id": "d9UpdWTTnTb-"
      },
      "execution_count": null,
      "outputs": []
    },
    {
      "cell_type": "code",
      "source": [
        "k_df [k_df['Age'] == k_df['Age'].max()]"
      ],
      "metadata": {
        "collapsed": true,
        "id": "qrXseQuonTeW"
      },
      "execution_count": null,
      "outputs": []
    },
    {
      "cell_type": "code",
      "source": [
        "k_df [k_df['Age'] == k_df['Age'].min()]"
      ],
      "metadata": {
        "collapsed": true,
        "id": "QBtek_o_ouvH"
      },
      "execution_count": null,
      "outputs": []
    },
    {
      "cell_type": "code",
      "source": [
        "k_df.describe().round(2)"
      ],
      "metadata": {
        "collapsed": true,
        "id": "N-ahdNcJpPpF"
      },
      "execution_count": null,
      "outputs": []
    },
    {
      "cell_type": "markdown",
      "source": [
        "### Averages for Kyphosis & Non Kyphosis Cases\n",
        "\n",
        "---"
      ],
      "metadata": {
        "id": "gCJgm65vEwEd"
      }
    },
    {
      "cell_type": "code",
      "source": [
        "non_number = (absent_kyphosis['Number'].mean())\n",
        "non_number"
      ],
      "metadata": {
        "collapsed": true,
        "id": "auQwryK6zkBt"
      },
      "execution_count": null,
      "outputs": []
    },
    {
      "cell_type": "code",
      "source": [
        "number = (present_kyphosis['Number'].mean())\n",
        "number"
      ],
      "metadata": {
        "id": "YovWnrmm0Z5F"
      },
      "execution_count": null,
      "outputs": []
    },
    {
      "cell_type": "code",
      "source": [
        "average_developed = (present_kyphosis['Age'].mean())\n",
        "average_developed"
      ],
      "metadata": {
        "id": "icWVf9p_0iCA"
      },
      "execution_count": null,
      "outputs": []
    },
    {
      "cell_type": "code",
      "source": [
        "average_nondeveloped = (absent_kyphosis['Age'].mean())\n",
        "average_nondeveloped"
      ],
      "metadata": {
        "id": "4pQQgN0r1KCq"
      },
      "execution_count": null,
      "outputs": []
    },
    {
      "cell_type": "markdown",
      "source": [
        "## Data Visualization"
      ],
      "metadata": {
        "id": "0Eo5Xh7cBX8d"
      }
    },
    {
      "cell_type": "markdown",
      "source": [
        "### Histogram & Countplot\n",
        "\n",
        "---"
      ],
      "metadata": {
        "id": "DoShAmGXFRYf"
      }
    },
    {
      "cell_type": "code",
      "source": [
        "k_df.hist(bins = 10, figsize = (10,10), color = 'b');"
      ],
      "metadata": {
        "collapsed": true,
        "id": "ig_xzavwpPrk"
      },
      "execution_count": null,
      "outputs": []
    },
    {
      "cell_type": "code",
      "source": [
        "sns.countplot(x = 'Kyphosis', data = k_df, label = 'Count')"
      ],
      "metadata": {
        "collapsed": true,
        "id": "Pxhq8A6fmdeW"
      },
      "execution_count": null,
      "outputs": []
    },
    {
      "cell_type": "markdown",
      "source": [
        "### Heatmap & One Hot Encoding\n",
        "\n",
        "---"
      ],
      "metadata": {
        "id": "IZAqa9ZsFiAm"
      }
    },
    {
      "cell_type": "code",
      "source": [
        "sns.heatmap(k_df.drop('Kyphosis', axis=1).corr(), annot=True)\n",
        "# Age is independent of the surgical factors in this dataset\n",
        "# Higher surgeries tend to involve more vertebrae"
      ],
      "metadata": {
        "collapsed": true,
        "id": "oi353OhS8Qkz"
      },
      "execution_count": null,
      "outputs": []
    },
    {
      "cell_type": "code",
      "source": [
        "# one hot encoding to ['Kyphosis'] column\n",
        "Kyphosis_encoded = pd.get_dummies(k_df['Kyphosis'], dtype=int)\n",
        "Kyphosis_encoded"
      ],
      "metadata": {
        "collapsed": true,
        "id": "0LStxgXapPt8"
      },
      "execution_count": null,
      "outputs": []
    },
    {
      "cell_type": "markdown",
      "source": [
        "## Summary"
      ],
      "metadata": {
        "id": "GgC521IcFsXd"
      }
    },
    {
      "cell_type": "markdown",
      "metadata": {
        "id": "65a58b97"
      },
      "source": [
        "### Analysis Summary & Key Findings\n",
        "\n",
        "Based on this dataset:\n",
        "\n",
        "*   **Patients who developed kyphosis after surgery** had an average age of 97.8 months (8.1 years).\n",
        "*   **Patients without kyphosis after surgery** had an average age of 79.9 months (6.6 years).\n",
        "    *   **Finding:** Based on this dataset, older patients are more likely to develop kyphosis after surgery compared to younger patients.\n",
        "\n",
        "*   **Kyphosis cases:** averaged 5.2 vertebrae operated on.\n",
        "*   **Non-kyphosis cases:** averaged 3.8 vertebrae.\n",
        "    *   **Finding:** Based on this dataset, surgeries involving a larger number of vertebrae are more likely to develop kyphosis.\n",
        "\n",
        "*   **Kyphosis cases:** surgeries started around vertebra 7.3 (higher up the spine).\n",
        "*   **Non-kyphosis cases:** surgeries started around vertebra 12.6 (lower down the spine).\n",
        "    *   **Finding:** Based on this dataset, surgeries beginning higher on the spine seem to increase the risk of kyphosis.\n",
        "\n",
        "**Hypothesis:** Patients who undergo spinal surgeries involving more vertebrae and a higher starting vertebral position are more likely to develop kyphosis rather than patients with smaller spinal surgeries starting lower in the spine.\n",
        "\n",
        "**Important Considerations:**\n",
        "\n",
        "*   Assuming the dataset accurately records the patient ages, number of vertebrae, and surgery start position.\n",
        "*   This dataset only focuses on 4 categories, leaving out other factors such as surgeon experience & skill, patient health before & after surgery, patient genetics, etc."
      ]
    }
  ]
}